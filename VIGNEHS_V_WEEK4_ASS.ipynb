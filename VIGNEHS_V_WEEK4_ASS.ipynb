{
  "nbformat": 4,
  "nbformat_minor": 0,
  "metadata": {
    "colab": {
      "provenance": []
    },
    "kernelspec": {
      "name": "python3",
      "display_name": "Python 3"
    },
    "language_info": {
      "name": "python"
    }
  },
  "cells": [
    {
      "cell_type": "code",
      "execution_count": 7,
      "metadata": {
        "colab": {
          "base_uri": "https://localhost:8080/"
        },
        "id": "vRBEvJvSRF6s",
        "outputId": "7e1c9eda-e293-425b-f967-62e253001bf1"
      },
      "outputs": [
        {
          "output_type": "stream",
          "name": "stdout",
          "text": [
            "Results successfully written to /content/output.txt\n"
          ]
        }
      ],
      "source": [
        "#1\n",
        "def count_file_contents(input_file, output_file):\n",
        "    try:\n",
        "        # Open input file in read mode with error handling for unsupported formats\n",
        "        with open(input_file, 'r', encoding='utf-8') as file:\n",
        "            lines = file.readlines()\n",
        "\n",
        "        if len(lines) == 0:\n",
        "            raise ValueError(\"The input file is empty.\")\n",
        "\n",
        "        # Initialize counters for lines, words, and characters\n",
        "        num_lines = len(lines)\n",
        "        num_words = sum(len(line.split()) for line in lines)\n",
        "        num_chars = sum(len(line) for line in lines)\n",
        "\n",
        "    except FileNotFoundError:\n",
        "        print(f\"Error: The file '{input_file}' was not found.\")\n",
        "        return\n",
        "    except UnicodeDecodeError:\n",
        "        print(f\"Error: The file '{input_file}' is not a text file or contains unsupported encoding.\")\n",
        "        return\n",
        "    except ValueError as ve:\n",
        "        print(f\"Error: {ve}\")\n",
        "        return\n",
        "    except Exception as e:\n",
        "        print(f\"An unexpected error occurred while reading the file: {e}\")\n",
        "        return\n",
        "\n",
        "    try:\n",
        "        # Write the results to an output file\n",
        "        with open(output_file, 'w', encoding='utf-8') as file:\n",
        "            file.write(f\"Number of lines: {num_lines}\\n\")\n",
        "            file.write(f\"Number of words: {num_words}\\n\")\n",
        "            file.write(f\"Number of characters: {num_chars}\\n\")\n",
        "\n",
        "        print(f\"Results successfully written to {output_file}\")\n",
        "\n",
        "    except FileNotFoundError:\n",
        "        print(f\"Error: Could not open '{output_file}' for writing.\")\n",
        "    except PermissionError:\n",
        "        print(f\"Error: Permission denied when trying to write to '{output_file}'.\")\n",
        "    except Exception as e:\n",
        "        print(f\"An unexpected error occurred while writing to the file: {e}\")\n",
        "\n",
        "# Example usage\n",
        "input_file = '/content/HI HOW ARE YOUR , MY SELF VIGNESH.txt'\n",
        "output_file = '/content/output.txt'\n",
        "count_file_contents(input_file, output_file)\n"
      ]
    },
    {
      "cell_type": "code",
      "source": [
        "#3\n",
        "import logging\n",
        "\n",
        "# Set up logging configuration to write errors to a file\n",
        "logging.basicConfig(filename='/content/HI HOW ARE YOUR , MY SELF VIGNESH.txt',\n",
        "                    level=logging.ERROR,\n",
        "                    format='%(asctime)s - %(levelname)s - %(message)s')\n",
        "\n",
        "def read_file(file_path):\n",
        "    try:\n",
        "        # Try opening a file that may not exist\n",
        "        with open(file_path, 'r') as file:\n",
        "            data = file.read()\n",
        "            print(\"File content:\\n\", data)\n",
        "    except FileNotFoundError:\n",
        "        logging.error(\"File not found error.\")\n",
        "        print(\"Error: The file was not found.\")\n",
        "    except Exception as e:\n",
        "        logging.error(f\"An unexpected error occurred: {e}\")\n",
        "        print(f\"An unexpected error occurred: {e}\")\n",
        "\n",
        "def calculate_number(num_str):\n",
        "    try:\n",
        "        # Try converting string input to an integer, may cause ValueError\n",
        "        num = int(num_str)\n",
        "        print(f\"The number is: {num}\")\n",
        "    except ValueError:\n",
        "        logging.error(\"ValueError: Invalid input for an integer.\")\n",
        "        print(\"Error: Invalid input, please enter a valid integer.\")\n",
        "    except Exception as e:\n",
        "        logging.error(f\"An unexpected error occurred: {e}\")\n",
        "        print(f\"An unexpected error occurred: {e}\")\n",
        "\n",
        "# the functions\n",
        "if __name__ == \"__main__\":\n",
        "\n",
        "    file_path = \"non_existent_file.txt\"\n",
        "    read_file(file_path)\n",
        "\n",
        "    invalid_input = \"abc\"\n",
        "    calculate_number(invalid_input)\n"
      ],
      "metadata": {
        "colab": {
          "base_uri": "https://localhost:8080/"
        },
        "id": "Rn9plXisRjJs",
        "outputId": "db4ae000-82bc-4894-edce-4f2a62e81894"
      },
      "execution_count": 6,
      "outputs": [
        {
          "output_type": "stream",
          "name": "stderr",
          "text": [
            "ERROR:root:File not found error.\n",
            "ERROR:root:ValueError: Invalid input for an integer.\n"
          ]
        },
        {
          "output_type": "stream",
          "name": "stdout",
          "text": [
            "Error: The file was not found.\n",
            "Error: Invalid input, please enter a valid integer.\n"
          ]
        }
      ]
    },
    {
      "cell_type": "code",
      "source": [],
      "metadata": {
        "id": "RmY4pebqTpPM"
      },
      "execution_count": null,
      "outputs": []
    }
  ]
}